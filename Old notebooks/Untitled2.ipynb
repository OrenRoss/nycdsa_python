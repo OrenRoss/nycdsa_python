{
 "cells": [
  {
   "cell_type": "code",
   "execution_count": null,
   "id": "83052f31-7790-4d1a-9b4e-9a6481be260a",
   "metadata": {},
   "outputs": [],
   "source": [
    "vg_df = vg_df[~vg_df.user_score.str.contains('tbd')]\n",
    "# vg_df[\"user_score\"] = vg_df[\"user_score\"].map(lambda x: float(x))"
   ]
  }
 ],
 "metadata": {
  "kernelspec": {
   "display_name": "Python 3",
   "language": "python",
   "name": "python3"
  },
  "language_info": {
   "codemirror_mode": {
    "name": "ipython",
    "version": 3
   },
   "file_extension": ".py",
   "mimetype": "text/x-python",
   "name": "python",
   "nbconvert_exporter": "python",
   "pygments_lexer": "ipython3",
   "version": "3.8.8"
  }
 },
 "nbformat": 4,
 "nbformat_minor": 5
}
